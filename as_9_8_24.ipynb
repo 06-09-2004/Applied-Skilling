{
  "nbformat": 4,
  "nbformat_minor": 0,
  "metadata": {
    "colab": {
      "provenance": [],
      "authorship_tag": "ABX9TyM8dDw0ScCxef3WraUeNZbe",
      "include_colab_link": true
    },
    "kernelspec": {
      "name": "python3",
      "display_name": "Python 3"
    },
    "language_info": {
      "name": "python"
    }
  },
  "cells": [
    {
      "cell_type": "markdown",
      "metadata": {
        "id": "view-in-github",
        "colab_type": "text"
      },
      "source": [
        "<a href=\"https://colab.research.google.com/github/06-09-2004/Data-Science-Tutorials/blob/main/as_9_8_24.ipynb\" target=\"_parent\"><img src=\"https://colab.research.google.com/assets/colab-badge.svg\" alt=\"Open In Colab\"/></a>"
      ]
    },
    {
      "cell_type": "code",
      "execution_count": null,
      "metadata": {
        "colab": {
          "base_uri": "https://localhost:8080/"
        },
        "id": "k7LV7QKNmNUS",
        "outputId": "98c4bd70-69b0-41ff-927d-407e90011edd"
      },
      "outputs": [
        {
          "output_type": "stream",
          "name": "stdout",
          "text": [
            "[1, 7, 2]\n",
            "0    1\n",
            "1    7\n",
            "2    2\n",
            "dtype: int64\n",
            "---------------------\n",
            "1\n",
            "---------------------\n",
            "x    1\n",
            "y    7\n",
            "z    2\n",
            "dtype: int64\n",
            "7\n",
            "---------------------\n",
            "day1      420\n",
            "day 20    380\n",
            "day 3     390\n",
            "dtype: int64\n",
            "----------------------\n",
            "day1    420.0\n",
            "day2      NaN\n",
            "dtype: float64\n",
            "----------------------\n",
            "0    5\n",
            "1    5\n",
            "2    5\n",
            "3    5\n",
            "dtype: int64\n",
            "----------------------\n"
          ]
        }
      ],
      "source": [
        "#pandas Series\n",
        "#A series in pandas is a one-dimensional array-like object that to a column in a spreadsheet or a Sql table\n",
        "import pandas as pd\n",
        "#Series generated from a list\n",
        "a=[1,7,2]\n",
        "myvar=pd.Series(a)\n",
        "print(a)\n",
        "print(myvar)\n",
        "print('---------------------')\n",
        "#labels\n",
        "print(myvar[0])\n",
        "print('---------------------')\n",
        "#Assigning seperate labels to values in the statement\n",
        "myvar2=pd.Series(a,index=[\"x\",\"y\",\"z\"])\n",
        "print(myvar2)\n",
        "print(myvar2[\"y\"])\n",
        "print('---------------------')\n",
        "#Series generated from dictionary\n",
        "calories={\"day1\":420,\"day 20\":380,\"day 3\":390}\n",
        "myvar=pd.Series(calories)\n",
        "print(myvar)\n",
        "print('----------------------')\n",
        "myvar=pd.Series(calories,index=['day1','day2'])\n",
        "print(myvar)\n",
        "print('----------------------')\n",
        "#series generated from Scalar Value\n",
        "Series=pd.Series(5,index=[0,1,2,3])\n",
        "print(Series)\n",
        "print('----------------------')\n",
        "\n",
        "\n",
        "\n",
        "\n",
        "\n",
        "\n"
      ]
    },
    {
      "cell_type": "code",
      "source": [
        "#integer Series\n",
        "int_series=pd.Series([1,2,3,4])\n",
        "print(int_series)\n",
        "print('---------------------')\n",
        "#float series\n",
        "float_series=pd.Series([1.1,2.2,3.3,4.4])\n",
        "print(float_series)\n",
        "print('---------------------')\n",
        "#String Series\n",
        "string_series=pd.Series(['a','b','c','d'])\n",
        "print(string_series)\n",
        "print('---------------------')\n",
        "#label based indexing\n",
        "data={'a':10,'b':20,'c':30}\n",
        "series=pd.Series(data)\n",
        "print(series['a'])\n",
        "print(series[['a','c']])\n",
        "print('---------------------')\n",
        "#Boolean indexing\n",
        "data=[10,20,30,40,50]\n",
        "series=pd.Series(data)\n",
        "#Acsess elements greater than 25\n",
        "print(series[series>25])\n",
        "print('----------------------')\n",
        "\n",
        "\n",
        "\n",
        "\n"
      ],
      "metadata": {
        "colab": {
          "base_uri": "https://localhost:8080/"
        },
        "id": "evgQVgaEvXCi",
        "outputId": "f19e8c23-2a99-4074-b6e7-d75510081493"
      },
      "execution_count": null,
      "outputs": [
        {
          "output_type": "stream",
          "name": "stdout",
          "text": [
            "0    1\n",
            "1    2\n",
            "2    3\n",
            "3    4\n",
            "dtype: int64\n",
            "---------------------\n",
            "0    1.1\n",
            "1    2.2\n",
            "2    3.3\n",
            "3    4.4\n",
            "dtype: float64\n",
            "---------------------\n",
            "0    a\n",
            "1    b\n",
            "2    c\n",
            "3    d\n",
            "dtype: object\n",
            "---------------------\n",
            "10\n",
            "a    10\n",
            "c    30\n",
            "dtype: int64\n",
            "---------------------\n",
            "2    30\n",
            "3    40\n",
            "4    50\n",
            "dtype: int64\n",
            "----------------------\n"
          ]
        }
      ]
    },
    {
      "cell_type": "code",
      "source": [
        "#Creating a Data Frame\n",
        "data={\n",
        "    'Name': ['Alice','Bob','Charlie'],\n",
        "    'Age':[25,30,35],\n",
        "    'City':['New York','Los Angeles','Chicago']\n",
        "}\n",
        "df=pd.DataFrame(data)\n",
        "print(df)\n",
        "print('-------------------')\n",
        "#Selecting Columns\n",
        "#column wise slicing\n",
        "print(df.Name)#Both are same\n",
        "print(df['Name'])#if we want only single column\n",
        "print(df[['Name','City']])#if we want more than one column\n",
        "print('-------------------')\n",
        "#row wise slicing\n",
        "df=pd.DataFrame(data)\n",
        "#select a single row by label\n",
        "print(df.loc[0])\n",
        "#select multiple rows\n",
        "print(df.iloc[0:2])\n",
        "print('-------------------')\n",
        "\n",
        "#Conditional Selection\n",
        "#select rows where age is greater than 25\n",
        "print(df[df['Age']>25])\n",
        "print('-------------------')\n",
        "print(df.loc[(df.Name=='Bob')&(df.City=='Los Angeles')])\n",
        "\n"
      ],
      "metadata": {
        "colab": {
          "base_uri": "https://localhost:8080/"
        },
        "id": "YlFjomcUyn-o",
        "outputId": "08999abe-0ad6-4ae3-8f2c-ab37d8441ab1"
      },
      "execution_count": null,
      "outputs": [
        {
          "output_type": "stream",
          "name": "stdout",
          "text": [
            "      Name  Age         City\n",
            "0    Alice   25     New York\n",
            "1      Bob   30  Los Angeles\n",
            "2  Charlie   35      Chicago\n",
            "-------------------\n",
            "0      Alice\n",
            "1        Bob\n",
            "2    Charlie\n",
            "Name: Name, dtype: object\n",
            "0      Alice\n",
            "1        Bob\n",
            "2    Charlie\n",
            "Name: Name, dtype: object\n",
            "      Name         City\n",
            "0    Alice     New York\n",
            "1      Bob  Los Angeles\n",
            "2  Charlie      Chicago\n",
            "-------------------\n",
            "Name       Alice\n",
            "Age           25\n",
            "City    New York\n",
            "Name: 0, dtype: object\n",
            "    Name  Age         City\n",
            "0  Alice   25     New York\n",
            "1    Bob   30  Los Angeles\n",
            "-------------------\n",
            "      Name  Age         City\n",
            "1      Bob   30  Los Angeles\n",
            "2  Charlie   35      Chicago\n",
            "-------------------\n",
            "  Name  Age         City\n",
            "1  Bob   30  Los Angeles\n"
          ]
        }
      ]
    },
    {
      "cell_type": "code",
      "source": [
        "#GroupBy in pandas\n",
        "#Grouping by a single column\n",
        "data={\n",
        "    'name':['Alice','Bob','Charlie','Alice','Bob'],\n",
        "    'age':[25,30,35,25,30],\n",
        "    'city':['New York','San Francisco','Los Angeles','New York','San Francisco'],\n",
        "    'salary':[70000,80000,120000,70000,80000]\n",
        "}\n",
        "df=pd.DataFrame(data)\n",
        "grouped=df.groupby('name')\n",
        "print(grouped.groups)\n",
        "#calculate the sum of salaries for each group\n",
        "salary_sum= grouped['salary'].sum()\n",
        "print(salary_sum)\n",
        "age_mean=grouped['age'].mean()\n",
        "print(age_mean)\n",
        "#grouping by multiple columns\n",
        "#group by 'name' and 'city'\n",
        "grouped_multiple=df.groupby(['name','city'])\n",
        "#calculate the sum of salaries for each group\n",
        "salary_sum_multiple=grouped_multiple['salary'].sum()\n",
        "print(salary_sum_multiple)\n",
        "\n",
        "\n",
        "\n"
      ],
      "metadata": {
        "colab": {
          "base_uri": "https://localhost:8080/"
        },
        "id": "rn8LQ8Dx3dsE",
        "outputId": "8126daa7-e685-4459-b9bf-66d6b1f4e6c1"
      },
      "execution_count": null,
      "outputs": [
        {
          "output_type": "stream",
          "name": "stdout",
          "text": [
            "{'Alice': [0, 3], 'Bob': [1, 4], 'Charlie': [2]}\n",
            "name\n",
            "Alice      140000\n",
            "Bob        160000\n",
            "Charlie    120000\n",
            "Name: salary, dtype: int64\n",
            "name\n",
            "Alice      25.0\n",
            "Bob        30.0\n",
            "Charlie    35.0\n",
            "Name: age, dtype: float64\n",
            "name     city         \n",
            "Alice    New York         140000\n",
            "Bob      San Francisco    160000\n",
            "Charlie  Los Angeles      120000\n",
            "Name: salary, dtype: int64\n"
          ]
        }
      ]
    }
  ]
}